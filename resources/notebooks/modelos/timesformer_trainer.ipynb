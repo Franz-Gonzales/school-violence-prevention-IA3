{
 "cells": [
  {
   "cell_type": "code",
   "execution_count": 1,
   "id": "e9a7f120",
   "metadata": {
    "execution": {
     "iopub.execute_input": "2025-04-16T08:35:29.166011Z",
     "iopub.status.busy": "2025-04-16T08:35:29.165699Z",
     "iopub.status.idle": "2025-04-16T08:35:29.912010Z",
     "shell.execute_reply": "2025-04-16T08:35:29.910916Z"
    },
    "papermill": {
     "duration": 0.75575,
     "end_time": "2025-04-16T08:35:29.913827",
     "exception": false,
     "start_time": "2025-04-16T08:35:29.158077",
     "status": "completed"
    },
    "tags": []
   },
   "outputs": [
    {
     "name": "stdout",
     "output_type": "stream",
     "text": [
      "Cloning into 'TimeSformer'...\r\n",
      "remote: Enumerating objects: 392, done.\u001b[K\r\n",
      "remote: Counting objects: 100% (148/148), done.\u001b[K\r\n",
      "remote: Compressing objects: 100% (74/74), done.\u001b[K\r\n",
      "remote: Total 392 (delta 100), reused 74 (delta 74), pack-reused 244 (from 1)\u001b[K\r\n",
      "Receiving objects: 100% (392/392), 336.91 KiB | 5.61 MiB/s, done.\r\n",
      "Resolving deltas: 100% (176/176), done.\r\n"
     ]
    }
   ],
   "source": [
    "# Clone TimeSformer Repository\n",
    "!git clone https://github.com/facebookresearch/TimeSformer.git"
   ]
  },
  {
   "cell_type": "code",
   "execution_count": 2,
   "id": "9ac0e6f3",
   "metadata": {
    "execution": {
     "iopub.execute_input": "2025-04-16T08:35:29.928058Z",
     "iopub.status.busy": "2025-04-16T08:35:29.927715Z",
     "iopub.status.idle": "2025-04-16T08:35:36.947739Z",
     "shell.execute_reply": "2025-04-16T08:35:36.946597Z"
    },
    "papermill": {
     "duration": 7.029132,
     "end_time": "2025-04-16T08:35:36.949978",
     "exception": false,
     "start_time": "2025-04-16T08:35:29.920846",
     "status": "completed"
    },
    "tags": []
   },
   "outputs": [
    {
     "name": "stdout",
     "output_type": "stream",
     "text": [
      "/kaggle/working/TimeSformer\n",
      "Obtaining file:///kaggle/working/TimeSformer\r\n",
      "  Preparing metadata (setup.py) ... \u001b[?25l\u001b[?25hdone\r\n",
      "Requirement already satisfied: einops>=0.3 in /usr/local/lib/python3.10/dist-packages (from timesformer==1.0) (0.8.0)\r\n",
      "Requirement already satisfied: torch>=1.6 in /usr/local/lib/python3.10/dist-packages (from timesformer==1.0) (2.5.1+cu121)\r\n",
      "Requirement already satisfied: filelock in /usr/local/lib/python3.10/dist-packages (from torch>=1.6->timesformer==1.0) (3.17.0)\r\n",
      "Requirement already satisfied: typing-extensions>=4.8.0 in /usr/local/lib/python3.10/dist-packages (from torch>=1.6->timesformer==1.0) (4.12.2)\r\n",
      "Requirement already satisfied: networkx in /usr/local/lib/python3.10/dist-packages (from torch>=1.6->timesformer==1.0) (3.4.2)\r\n",
      "Requirement already satisfied: jinja2 in /usr/local/lib/python3.10/dist-packages (from torch>=1.6->timesformer==1.0) (3.1.4)\r\n",
      "Requirement already satisfied: fsspec in /usr/local/lib/python3.10/dist-packages (from torch>=1.6->timesformer==1.0) (2024.12.0)\r\n",
      "Requirement already satisfied: sympy==1.13.1 in /usr/local/lib/python3.10/dist-packages (from torch>=1.6->timesformer==1.0) (1.13.1)\r\n",
      "Requirement already satisfied: mpmath<1.4,>=1.1.0 in /usr/local/lib/python3.10/dist-packages (from sympy==1.13.1->torch>=1.6->timesformer==1.0) (1.3.0)\r\n",
      "Requirement already satisfied: MarkupSafe>=2.0 in /usr/local/lib/python3.10/dist-packages (from jinja2->torch>=1.6->timesformer==1.0) (3.0.2)\r\n",
      "Installing collected packages: timesformer\r\n",
      "  Running setup.py develop for timesformer\r\n",
      "Successfully installed timesformer-1.0\r\n"
     ]
    }
   ],
   "source": [
    "%cd /kaggle/working/TimeSformer\n",
    "\n",
    "# Install TimeSformer\n",
    "!pip install -e ."
   ]
  },
  {
   "cell_type": "code",
   "execution_count": 3,
   "id": "a161017a",
   "metadata": {
    "execution": {
     "iopub.execute_input": "2025-04-16T08:35:36.964953Z",
     "iopub.status.busy": "2025-04-16T08:35:36.964655Z",
     "iopub.status.idle": "2025-04-16T08:35:44.763000Z",
     "shell.execute_reply": "2025-04-16T08:35:44.761961Z"
    },
    "papermill": {
     "duration": 7.807531,
     "end_time": "2025-04-16T08:35:44.764684",
     "exception": false,
     "start_time": "2025-04-16T08:35:36.957153",
     "status": "completed"
    },
    "tags": []
   },
   "outputs": [
    {
     "name": "stdout",
     "output_type": "stream",
     "text": [
      "Collecting simplejson\r\n",
      "  Downloading simplejson-3.20.1-cp310-cp310-manylinux_2_5_x86_64.manylinux1_x86_64.manylinux_2_17_x86_64.manylinux2014_x86_64.whl.metadata (3.2 kB)\r\n",
      "Collecting fvcore\r\n",
      "  Downloading fvcore-0.1.5.post20221221.tar.gz (50 kB)\r\n",
      "\u001b[2K     \u001b[90m━━━━━━━━━━━━━━━━━━━━━━━━━━━━━━━━━━━━━━━━\u001b[0m \u001b[32m50.2/50.2 kB\u001b[0m \u001b[31m1.9 MB/s\u001b[0m eta \u001b[36m0:00:00\u001b[0m\r\n",
      "\u001b[?25h  Preparing metadata (setup.py) ... \u001b[?25l\u001b[?25hdone\r\n",
      "Collecting iopath\r\n",
      "  Downloading iopath-0.1.10.tar.gz (42 kB)\r\n",
      "\u001b[2K     \u001b[90m━━━━━━━━━━━━━━━━━━━━━━━━━━━━━━━━━━━━━━━━\u001b[0m \u001b[32m42.2/42.2 kB\u001b[0m \u001b[31m2.4 MB/s\u001b[0m eta \u001b[36m0:00:00\u001b[0m\r\n",
      "\u001b[?25h  Preparing metadata (setup.py) ... \u001b[?25l\u001b[?25hdone\r\n",
      "Requirement already satisfied: numpy in /usr/local/lib/python3.10/dist-packages (from fvcore) (1.26.4)\r\n",
      "Collecting yacs>=0.1.6 (from fvcore)\r\n",
      "  Downloading yacs-0.1.8-py3-none-any.whl.metadata (639 bytes)\r\n",
      "Requirement already satisfied: pyyaml>=5.1 in /usr/local/lib/python3.10/dist-packages (from fvcore) (6.0.2)\r\n",
      "Requirement already satisfied: tqdm in /usr/local/lib/python3.10/dist-packages (from fvcore) (4.67.1)\r\n",
      "Requirement already satisfied: termcolor>=1.1 in /usr/local/lib/python3.10/dist-packages (from fvcore) (2.5.0)\r\n",
      "Requirement already satisfied: Pillow in /usr/local/lib/python3.10/dist-packages (from fvcore) (11.0.0)\r\n",
      "Requirement already satisfied: tabulate in /usr/local/lib/python3.10/dist-packages (from fvcore) (0.9.0)\r\n",
      "Requirement already satisfied: typing_extensions in /usr/local/lib/python3.10/dist-packages (from iopath) (4.12.2)\r\n",
      "Collecting portalocker (from iopath)\r\n",
      "  Downloading portalocker-3.1.1-py3-none-any.whl.metadata (8.6 kB)\r\n",
      "Requirement already satisfied: mkl_fft in /usr/local/lib/python3.10/dist-packages (from numpy->fvcore) (1.3.8)\r\n",
      "Requirement already satisfied: mkl_random in /usr/local/lib/python3.10/dist-packages (from numpy->fvcore) (1.2.4)\r\n",
      "Requirement already satisfied: mkl_umath in /usr/local/lib/python3.10/dist-packages (from numpy->fvcore) (0.1.1)\r\n",
      "Requirement already satisfied: mkl in /usr/local/lib/python3.10/dist-packages (from numpy->fvcore) (2025.0.1)\r\n",
      "Requirement already satisfied: tbb4py in /usr/local/lib/python3.10/dist-packages (from numpy->fvcore) (2022.0.0)\r\n",
      "Requirement already satisfied: mkl-service in /usr/local/lib/python3.10/dist-packages (from numpy->fvcore) (2.4.1)\r\n",
      "Requirement already satisfied: intel-openmp>=2024 in /usr/local/lib/python3.10/dist-packages (from mkl->numpy->fvcore) (2024.2.0)\r\n",
      "Requirement already satisfied: tbb==2022.* in /usr/local/lib/python3.10/dist-packages (from mkl->numpy->fvcore) (2022.0.0)\r\n",
      "Requirement already satisfied: tcmlib==1.* in /usr/local/lib/python3.10/dist-packages (from tbb==2022.*->mkl->numpy->fvcore) (1.2.0)\r\n",
      "Requirement already satisfied: intel-cmplr-lib-rt in /usr/local/lib/python3.10/dist-packages (from mkl_umath->numpy->fvcore) (2024.2.0)\r\n",
      "Requirement already satisfied: intel-cmplr-lib-ur==2024.2.0 in /usr/local/lib/python3.10/dist-packages (from intel-openmp>=2024->mkl->numpy->fvcore) (2024.2.0)\r\n",
      "Downloading simplejson-3.20.1-cp310-cp310-manylinux_2_5_x86_64.manylinux1_x86_64.manylinux_2_17_x86_64.manylinux2014_x86_64.whl (138 kB)\r\n",
      "\u001b[2K   \u001b[90m━━━━━━━━━━━━━━━━━━━━━━━━━━━━━━━━━━━━━━━━\u001b[0m \u001b[32m138.0/138.0 kB\u001b[0m \u001b[31m4.9 MB/s\u001b[0m eta \u001b[36m0:00:00\u001b[0m\r\n",
      "\u001b[?25hDownloading yacs-0.1.8-py3-none-any.whl (14 kB)\r\n",
      "Downloading portalocker-3.1.1-py3-none-any.whl (19 kB)\r\n",
      "Building wheels for collected packages: fvcore, iopath\r\n",
      "  Building wheel for fvcore (setup.py) ... \u001b[?25l\u001b[?25hdone\r\n",
      "  Created wheel for fvcore: filename=fvcore-0.1.5.post20221221-py3-none-any.whl size=61396 sha256=6ba9c29afe826e016cac3699f84847c30f29d1d1b93fc996692cfc6da0f88172\r\n",
      "  Stored in directory: /root/.cache/pip/wheels/01/c0/af/77c1cf53a1be9e42a52b48e5af2169d40ec2e89f7362489dd0\r\n",
      "  Building wheel for iopath (setup.py) ... \u001b[?25l\u001b[?25hdone\r\n",
      "  Created wheel for iopath: filename=iopath-0.1.10-py3-none-any.whl size=31528 sha256=71c6d81ebc7e129b94e10fb3249be580a8e3fb8b63a75d5663016dfa54edf024\r\n",
      "  Stored in directory: /root/.cache/pip/wheels/9a/a3/b6/ac0fcd1b4ed5cfeb3db92e6a0e476cfd48ed0df92b91080c1d\r\n",
      "Successfully built fvcore iopath\r\n",
      "Installing collected packages: yacs, simplejson, portalocker, iopath, fvcore\r\n",
      "Successfully installed fvcore-0.1.5.post20221221 iopath-0.1.10 portalocker-3.1.1 simplejson-3.20.1 yacs-0.1.8\r\n"
     ]
    }
   ],
   "source": [
    "!pip install simplejson fvcore iopath"
   ]
  },
  {
   "cell_type": "code",
   "execution_count": 4,
   "id": "474aa319",
   "metadata": {
    "execution": {
     "iopub.execute_input": "2025-04-16T08:35:44.781377Z",
     "iopub.status.busy": "2025-04-16T08:35:44.781109Z",
     "iopub.status.idle": "2025-04-16T08:35:44.787389Z",
     "shell.execute_reply": "2025-04-16T08:35:44.786670Z"
    },
    "papermill": {
     "duration": 0.016145,
     "end_time": "2025-04-16T08:35:44.788831",
     "exception": false,
     "start_time": "2025-04-16T08:35:44.772686",
     "status": "completed"
    },
    "tags": []
   },
   "outputs": [
    {
     "name": "stdout",
     "output_type": "stream",
     "text": [
      "File updated successfully!\n"
     ]
    }
   ],
   "source": [
    "# Open the file in write mode and replace the import line\n",
    "file_path = \"/kaggle/working/TimeSformer/timesformer/models/resnet_helper.py\"\n",
    "\n",
    "# Read and modify the file\n",
    "with open(file_path, \"r\") as file:\n",
    "    lines = file.readlines()\n",
    "\n",
    "# Replace the line that imports _LinearWithBias\n",
    "modified_lines = []\n",
    "for line in lines:\n",
    "    if \"from torch.nn.modules.linear import _LinearWithBias\" in line:\n",
    "        modified_lines.append(\"from torch.nn import Linear as _LinearWithBias\\n\")\n",
    "    else:\n",
    "        modified_lines.append(line)\n",
    "\n",
    "# Write the modified content back to the file\n",
    "with open(file_path, \"w\") as file:\n",
    "    file.writelines(modified_lines)\n",
    "\n",
    "print(\"File updated successfully!\")\n"
   ]
  },
  {
   "cell_type": "code",
   "execution_count": 5,
   "id": "9a6b0482",
   "metadata": {
    "execution": {
     "iopub.execute_input": "2025-04-16T08:35:44.805078Z",
     "iopub.status.busy": "2025-04-16T08:35:44.804854Z",
     "iopub.status.idle": "2025-04-16T08:35:44.810866Z",
     "shell.execute_reply": "2025-04-16T08:35:44.810092Z"
    },
    "papermill": {
     "duration": 0.015238,
     "end_time": "2025-04-16T08:35:44.812082",
     "exception": false,
     "start_time": "2025-04-16T08:35:44.796844",
     "status": "completed"
    },
    "tags": []
   },
   "outputs": [
    {
     "name": "stdout",
     "output_type": "stream",
     "text": [
      "✅ vit_utils.py fixed successfully!\n"
     ]
    }
   ],
   "source": [
    "# Path to vit_utils.py file in your TimeSformer folder\n",
    "file_path = r\"/kaggle/working/TimeSformer/timesformer/models/vit_utils.py\"\n",
    "\n",
    "# Read the content of vit_utils.py\n",
    "with open(file_path, \"r\") as file:\n",
    "    lines = file.readlines()\n",
    "\n",
    "# Modify the import and update the reference\n",
    "modified_lines = []\n",
    "imported = False\n",
    "\n",
    "for line in lines:\n",
    "    # Replace the import statement if it exists\n",
    "    if \"from torch._six import container_abcs\" in line:\n",
    "        modified_lines.append(\"from collections.abc import Iterable\\n\")\n",
    "        imported = True\n",
    "    elif \"container_abcs.Iterable\" in line or \"Iterable\" in line:\n",
    "        modified_lines.append(line.replace(\"container_abcs.Iterable\", \"Iterable\"))\n",
    "    else:\n",
    "        modified_lines.append(line)\n",
    "\n",
    "# Add import if it's not already there\n",
    "if not imported:\n",
    "    modified_lines.insert(0, \"from collections.abc import Iterable\\n\")\n",
    "\n",
    "# Write the modified content back to the file\n",
    "with open(file_path, \"w\") as file:\n",
    "    file.writelines(modified_lines)\n",
    "\n",
    "print(\"✅ vit_utils.py fixed successfully!\")\n"
   ]
  },
  {
   "cell_type": "code",
   "execution_count": 6,
   "id": "b47e9e7a",
   "metadata": {
    "execution": {
     "iopub.execute_input": "2025-04-16T08:35:44.827545Z",
     "iopub.status.busy": "2025-04-16T08:35:44.827339Z",
     "iopub.status.idle": "2025-04-16T08:35:49.531070Z",
     "shell.execute_reply": "2025-04-16T08:35:49.530073Z"
    },
    "papermill": {
     "duration": 4.713601,
     "end_time": "2025-04-16T08:35:49.533126",
     "exception": false,
     "start_time": "2025-04-16T08:35:44.819525",
     "status": "completed"
    },
    "tags": []
   },
   "outputs": [],
   "source": [
    "import os\n",
    "import torch\n",
    "import cv2\n",
    "import numpy as np\n",
    "import torch\n",
    "from torch.utils.data import Dataset, DataLoader\n",
    "from timesformer.models.vit import TimeSformer\n",
    "import torch.nn as nn\n",
    "import torch.optim as optim\n",
    "from sklearn.metrics import accuracy_score, confusion_matrix"
   ]
  },
  {
   "cell_type": "code",
   "execution_count": 7,
   "id": "6b4390eb",
   "metadata": {
    "execution": {
     "iopub.execute_input": "2025-04-16T08:35:49.559657Z",
     "iopub.status.busy": "2025-04-16T08:35:49.559178Z",
     "iopub.status.idle": "2025-04-16T08:35:49.570250Z",
     "shell.execute_reply": "2025-04-16T08:35:49.569378Z"
    },
    "papermill": {
     "duration": 0.02359,
     "end_time": "2025-04-16T08:35:49.571839",
     "exception": false,
     "start_time": "2025-04-16T08:35:49.548249",
     "status": "completed"
    },
    "tags": []
   },
   "outputs": [],
   "source": [
    "class VideoDataset(Dataset):\n",
    "    def __init__(self, root_dir, transform=None, num_frames=8, img_size=224):\n",
    "        self.root_dir = root_dir\n",
    "        self.transform = transform\n",
    "        self.num_frames = num_frames\n",
    "        self.img_size = img_size\n",
    "\n",
    "        self.videos = []\n",
    "        self.labels = []\n",
    "\n",
    "        # Collect videos and labels\n",
    "        for label, subfolder in enumerate(['NonFight', 'Fight']):\n",
    "            folder = os.path.join(root_dir, subfolder)\n",
    "            for file in os.listdir(folder):\n",
    "                if file.endswith(('.mp4', '.avi', '.mkv')):\n",
    "                    self.videos.append(os.path.join(folder, file))\n",
    "                    self.labels.append(label)\n",
    "\n",
    "    def __len__(self):\n",
    "        return len(self.videos)\n",
    "\n",
    "    def __getitem__(self, idx):\n",
    "        video_path = self.videos[idx]\n",
    "        label = self.labels[idx]\n",
    "\n",
    "        # Read video frames\n",
    "        cap = cv2.VideoCapture(video_path)\n",
    "        frames = []\n",
    "        frame_count = int(cap.get(cv2.CAP_PROP_FRAME_COUNT))\n",
    "        step = max(1, frame_count // self.num_frames)\n",
    "\n",
    "        for i in range(0, frame_count, step):\n",
    "            cap.set(cv2.CAP_PROP_POS_FRAMES, i)\n",
    "            ret, frame = cap.read()\n",
    "            if not ret:\n",
    "                break\n",
    "            frame = cv2.resize(frame, (self.img_size, self.img_size))\n",
    "            frame = cv2.cvtColor(frame, cv2.COLOR_BGR2RGB)\n",
    "            frames.append(frame)\n",
    "\n",
    "            if len(frames) >= self.num_frames:\n",
    "                break\n",
    "\n",
    "        cap.release()\n",
    "\n",
    "        # Pad if not enough frames\n",
    "        while len(frames) < self.num_frames:\n",
    "            frames.append(frames[-1])\n",
    "\n",
    "        frames = np.stack(frames)  # Shape: (num_frames, H, W, C)\n",
    "        frames = torch.from_numpy(frames).permute(3, 0, 1, 2).float() / 255.0  # (C, T, H, W)\n",
    "\n",
    "        if self.transform:\n",
    "            frames = self.transform(frames)\n",
    "\n",
    "        return frames, torch.tensor(label, dtype=torch.float32)  # Float labels for BCE"
   ]
  },
  {
   "cell_type": "code",
   "execution_count": 8,
   "id": "1286dca9",
   "metadata": {
    "execution": {
     "iopub.execute_input": "2025-04-16T08:35:49.589083Z",
     "iopub.status.busy": "2025-04-16T08:35:49.588754Z",
     "iopub.status.idle": "2025-04-16T08:35:49.660740Z",
     "shell.execute_reply": "2025-04-16T08:35:49.659835Z"
    },
    "papermill": {
     "duration": 0.081658,
     "end_time": "2025-04-16T08:35:49.662189",
     "exception": false,
     "start_time": "2025-04-16T08:35:49.580531",
     "status": "completed"
    },
    "tags": []
   },
   "outputs": [],
   "source": [
    "# # Detect TPU\n",
    "# device = xm.xla_device()\n",
    "# # Move to GPU if available\n",
    "\n",
    "try:\n",
    "    device = xm.xla_device()\n",
    "except:\n",
    "    device = torch.device(\"cuda\" if torch.cuda.is_available() else \"cpu\")\n",
    "\n"
   ]
  },
  {
   "cell_type": "code",
   "execution_count": 9,
   "id": "5abd9dfa",
   "metadata": {
    "execution": {
     "iopub.execute_input": "2025-04-16T08:35:49.678551Z",
     "iopub.status.busy": "2025-04-16T08:35:49.678292Z",
     "iopub.status.idle": "2025-04-16T08:35:54.523415Z",
     "shell.execute_reply": "2025-04-16T08:35:54.522428Z"
    },
    "papermill": {
     "duration": 4.855005,
     "end_time": "2025-04-16T08:35:54.525012",
     "exception": false,
     "start_time": "2025-04-16T08:35:49.670007",
     "status": "completed"
    },
    "tags": []
   },
   "outputs": [
    {
     "name": "stderr",
     "output_type": "stream",
     "text": [
      "Downloading: \"https://github.com/rwightman/pytorch-image-models/releases/download/v0.1-vitjx/jx_vit_base_p16_224-80ecf9dd.pth\" to /root/.cache/torch/hub/checkpoints/jx_vit_base_p16_224-80ecf9dd.pth\n"
     ]
    }
   ],
   "source": [
    "# Load pre-trained TimeSformer model\n",
    "model = TimeSformer(img_size=224, num_classes=400)"
   ]
  },
  {
   "cell_type": "code",
   "execution_count": 10,
   "id": "397b25b0",
   "metadata": {
    "execution": {
     "iopub.execute_input": "2025-04-16T08:35:54.545671Z",
     "iopub.status.busy": "2025-04-16T08:35:54.545316Z",
     "iopub.status.idle": "2025-04-16T08:35:54.548664Z",
     "shell.execute_reply": "2025-04-16T08:35:54.547882Z"
    },
    "papermill": {
     "duration": 0.014944,
     "end_time": "2025-04-16T08:35:54.550075",
     "exception": false,
     "start_time": "2025-04-16T08:35:54.535131",
     "status": "completed"
    },
    "tags": []
   },
   "outputs": [],
   "source": [
    "# checkpoint = torch.load(r\"/kaggle/input/timesformer_pytorch/pytorch/default/1/timesformer_binary_final1.pth\", map_location=\"cuda\")\n",
    "# model.load_state_dict(checkpoint[\"model_state\"], strict=False)"
   ]
  },
  {
   "cell_type": "code",
   "execution_count": 11,
   "id": "cb75cf29",
   "metadata": {
    "execution": {
     "iopub.execute_input": "2025-04-16T08:35:54.566161Z",
     "iopub.status.busy": "2025-04-16T08:35:54.565925Z",
     "iopub.status.idle": "2025-04-16T08:35:54.570908Z",
     "shell.execute_reply": "2025-04-16T08:35:54.570308Z"
    },
    "papermill": {
     "duration": 0.014243,
     "end_time": "2025-04-16T08:35:54.572087",
     "exception": false,
     "start_time": "2025-04-16T08:35:54.557844",
     "status": "completed"
    },
    "tags": []
   },
   "outputs": [],
   "source": [
    "# Modify the final layer for binary classification\n",
    "model.model.head = nn.Sequential(\n",
    "    nn.Linear(model.model.head.in_features, 256),  # Intermediate layer\n",
    "    nn.ReLU(),\n",
    "    nn.Linear(256, 1)  # Binary output (logit)\n",
    ")"
   ]
  },
  {
   "cell_type": "code",
   "execution_count": 12,
   "id": "14a51062",
   "metadata": {
    "execution": {
     "iopub.execute_input": "2025-04-16T08:35:54.587501Z",
     "iopub.status.busy": "2025-04-16T08:35:54.587296Z",
     "iopub.status.idle": "2025-04-16T08:35:54.920111Z",
     "shell.execute_reply": "2025-04-16T08:35:54.919319Z"
    },
    "papermill": {
     "duration": 0.34239,
     "end_time": "2025-04-16T08:35:54.921808",
     "exception": false,
     "start_time": "2025-04-16T08:35:54.579418",
     "status": "completed"
    },
    "tags": []
   },
   "outputs": [],
   "source": [
    "model = model.to(device)\n",
    "\n",
    "# Freeze pretrained layers initially\n",
    "for param in model.parameters():\n",
    "    param.requires_grad = False\n",
    "for param in model.model.head.parameters():\n",
    "    param.requires_grad = True"
   ]
  },
  {
   "cell_type": "code",
   "execution_count": 13,
   "id": "66ae34e9",
   "metadata": {
    "execution": {
     "iopub.execute_input": "2025-04-16T08:35:54.940385Z",
     "iopub.status.busy": "2025-04-16T08:35:54.940067Z",
     "iopub.status.idle": "2025-04-16T08:35:54.946101Z",
     "shell.execute_reply": "2025-04-16T08:35:54.945173Z"
    },
    "papermill": {
     "duration": 0.016758,
     "end_time": "2025-04-16T08:35:54.947440",
     "exception": false,
     "start_time": "2025-04-16T08:35:54.930682",
     "status": "completed"
    },
    "tags": []
   },
   "outputs": [
    {
     "data": {
      "text/plain": [
       "True"
      ]
     },
     "execution_count": 13,
     "metadata": {},
     "output_type": "execute_result"
    }
   ],
   "source": [
    "torch.cuda.is_available()"
   ]
  },
  {
   "cell_type": "code",
   "execution_count": 14,
   "id": "0ce17cae",
   "metadata": {
    "execution": {
     "iopub.execute_input": "2025-04-16T08:35:54.966029Z",
     "iopub.status.busy": "2025-04-16T08:35:54.965666Z",
     "iopub.status.idle": "2025-04-16T08:35:54.969443Z",
     "shell.execute_reply": "2025-04-16T08:35:54.968533Z"
    },
    "papermill": {
     "duration": 0.014603,
     "end_time": "2025-04-16T08:35:54.970863",
     "exception": false,
     "start_time": "2025-04-16T08:35:54.956260",
     "status": "completed"
    },
    "tags": []
   },
   "outputs": [],
   "source": [
    "# Parameters\n",
    "batch_size = 8\n",
    "learning_rate = 1e-5"
   ]
  },
  {
   "cell_type": "code",
   "execution_count": 15,
   "id": "756e9833",
   "metadata": {
    "execution": {
     "iopub.execute_input": "2025-04-16T08:35:54.988982Z",
     "iopub.status.busy": "2025-04-16T08:35:54.988653Z",
     "iopub.status.idle": "2025-04-16T08:35:54.992069Z",
     "shell.execute_reply": "2025-04-16T08:35:54.991138Z"
    },
    "papermill": {
     "duration": 0.014314,
     "end_time": "2025-04-16T08:35:54.993576",
     "exception": false,
     "start_time": "2025-04-16T08:35:54.979262",
     "status": "completed"
    },
    "tags": []
   },
   "outputs": [],
   "source": [
    "# # Load dataset\n",
    "# train_dataset = VideoDataset(root_dir=r'Y:\\TSF\\TimeSformer\\dataset', num_frames=8, img_size=224)\n",
    "# train_loader = DataLoader(train_dataset, batch_size=batch_size, shuffle=True)"
   ]
  },
  {
   "cell_type": "code",
   "execution_count": 16,
   "id": "77b5e043",
   "metadata": {
    "execution": {
     "iopub.execute_input": "2025-04-16T08:35:55.012141Z",
     "iopub.status.busy": "2025-04-16T08:35:55.011896Z",
     "iopub.status.idle": "2025-04-16T08:35:55.242061Z",
     "shell.execute_reply": "2025-04-16T08:35:55.241382Z"
    },
    "papermill": {
     "duration": 0.241368,
     "end_time": "2025-04-16T08:35:55.243867",
     "exception": false,
     "start_time": "2025-04-16T08:35:55.002499",
     "status": "completed"
    },
    "tags": []
   },
   "outputs": [],
   "source": [
    "# Define dataset paths for RWF-2000\n",
    "train_dataset = VideoDataset(root_dir=r'/kaggle/input/rwf2000/RWF-2000/train', num_frames=8, img_size=224)\n",
    "val_dataset = VideoDataset(root_dir=r'/kaggle/input/rwf2000/RWF-2000/val', num_frames=8, img_size=224)\n",
    "\n",
    "train_loader = DataLoader(train_dataset, batch_size=batch_size, shuffle=True)\n",
    "val_loader = DataLoader(val_dataset, batch_size=batch_size, shuffle=False)\n"
   ]
  },
  {
   "cell_type": "code",
   "execution_count": 17,
   "id": "6a9a33f3",
   "metadata": {
    "execution": {
     "iopub.execute_input": "2025-04-16T08:35:55.260717Z",
     "iopub.status.busy": "2025-04-16T08:35:55.260416Z",
     "iopub.status.idle": "2025-04-16T08:35:55.264093Z",
     "shell.execute_reply": "2025-04-16T08:35:55.263425Z"
    },
    "papermill": {
     "duration": 0.013361,
     "end_time": "2025-04-16T08:35:55.265348",
     "exception": false,
     "start_time": "2025-04-16T08:35:55.251987",
     "status": "completed"
    },
    "tags": []
   },
   "outputs": [],
   "source": [
    "pos_weight = torch.tensor([2.0]).to(device)"
   ]
  },
  {
   "cell_type": "code",
   "execution_count": 18,
   "id": "885aec82",
   "metadata": {
    "execution": {
     "iopub.execute_input": "2025-04-16T08:35:55.281195Z",
     "iopub.status.busy": "2025-04-16T08:35:55.280961Z",
     "iopub.status.idle": "2025-04-16T08:35:55.284247Z",
     "shell.execute_reply": "2025-04-16T08:35:55.283448Z"
    },
    "papermill": {
     "duration": 0.01264,
     "end_time": "2025-04-16T08:35:55.285653",
     "exception": false,
     "start_time": "2025-04-16T08:35:55.273013",
     "status": "completed"
    },
    "tags": []
   },
   "outputs": [],
   "source": [
    "# Loss function\n",
    "criterion = nn.BCEWithLogitsLoss(pos_weight = pos_weight)  # Binary cross-entropy loss with logits"
   ]
  },
  {
   "cell_type": "code",
   "execution_count": 19,
   "id": "51b459bf",
   "metadata": {
    "execution": {
     "iopub.execute_input": "2025-04-16T08:35:55.301244Z",
     "iopub.status.busy": "2025-04-16T08:35:55.301016Z",
     "iopub.status.idle": "2025-04-16T08:35:58.799135Z",
     "shell.execute_reply": "2025-04-16T08:35:58.798426Z"
    },
    "papermill": {
     "duration": 3.507657,
     "end_time": "2025-04-16T08:35:58.800703",
     "exception": false,
     "start_time": "2025-04-16T08:35:55.293046",
     "status": "completed"
    },
    "tags": []
   },
   "outputs": [],
   "source": [
    "\n",
    "# Optimizer with different learning rates\n",
    "base_params = [param for name, param in model.named_parameters() if \"head\" not in name]\n",
    "head_params = model.model.head.parameters()\n",
    "optimizer = optim.Adam([\n",
    "    {'params': base_params, 'lr': learning_rate * 0.1},  # Slow lr for pretrained layers\n",
    "    {'params': head_params, 'lr': learning_rate}         # Faster lr for new head\n",
    "])"
   ]
  },
  {
   "cell_type": "code",
   "execution_count": 20,
   "id": "b35f7c8c",
   "metadata": {
    "execution": {
     "iopub.execute_input": "2025-04-16T08:35:58.817776Z",
     "iopub.status.busy": "2025-04-16T08:35:58.817367Z",
     "iopub.status.idle": "2025-04-16T08:35:58.820976Z",
     "shell.execute_reply": "2025-04-16T08:35:58.820299Z"
    },
    "papermill": {
     "duration": 0.013398,
     "end_time": "2025-04-16T08:35:58.822275",
     "exception": false,
     "start_time": "2025-04-16T08:35:58.808877",
     "status": "completed"
    },
    "tags": []
   },
   "outputs": [],
   "source": [
    "torch.cuda.empty_cache()"
   ]
  },
  {
   "cell_type": "code",
   "execution_count": 21,
   "id": "2b90a7d0",
   "metadata": {
    "execution": {
     "iopub.execute_input": "2025-04-16T08:35:58.838406Z",
     "iopub.status.busy": "2025-04-16T08:35:58.838171Z",
     "iopub.status.idle": "2025-04-16T08:42:37.599437Z",
     "shell.execute_reply": "2025-04-16T08:42:37.598445Z"
    },
    "papermill": {
     "duration": 398.77842,
     "end_time": "2025-04-16T08:42:37.608382",
     "exception": false,
     "start_time": "2025-04-16T08:35:58.829962",
     "status": "completed"
    },
    "tags": []
   },
   "outputs": [
    {
     "name": "stdout",
     "output_type": "stream",
     "text": [
      "Epoch [1/1], Batch [0/200], Loss: 0.9870\n",
      "Epoch [1/1], Batch [10/200], Loss: 1.0017\n",
      "Epoch [1/1], Batch [20/200], Loss: 0.9605\n",
      "Epoch [1/1], Batch [30/200], Loss: 1.1409\n",
      "Epoch [1/1], Batch [40/200], Loss: 0.9954\n",
      "Epoch [1/1], Batch [50/200], Loss: 1.0093\n",
      "Epoch [1/1], Batch [60/200], Loss: 0.9249\n",
      "Epoch [1/1], Batch [70/200], Loss: 0.9335\n",
      "Epoch [1/1], Batch [80/200], Loss: 0.9480\n",
      "Epoch [1/1], Batch [90/200], Loss: 0.9063\n",
      "Epoch [1/1], Batch [100/200], Loss: 0.9715\n",
      "Epoch [1/1], Batch [110/200], Loss: 0.9153\n",
      "Epoch [1/1], Batch [120/200], Loss: 0.9132\n",
      "Epoch [1/1], Batch [130/200], Loss: 0.9555\n",
      "Epoch [1/1], Batch [140/200], Loss: 0.9392\n",
      "Epoch [1/1], Batch [150/200], Loss: 0.9361\n",
      "Epoch [1/1], Batch [160/200], Loss: 0.9243\n",
      "Epoch [1/1], Batch [170/200], Loss: 0.9503\n",
      "Epoch [1/1], Batch [180/200], Loss: 0.9508\n",
      "Epoch [1/1], Batch [190/200], Loss: 0.9842\n",
      "Epoch [1/1], Average Loss: 0.9523\n"
     ]
    }
   ],
   "source": [
    "epochs = 1\n",
    "train_losses = []  # 🔹 Store average loss per epoch\n",
    "\n",
    "for epoch in range(epochs):\n",
    "    model.train() \n",
    "    total_loss = 0.0\n",
    "\n",
    "    for batch_idx, (videos, labels) in enumerate(train_loader):\n",
    "        videos, labels = videos.to(device), labels.to(device)\n",
    "\n",
    "        optimizer.zero_grad()\n",
    "        outputs = model(videos).squeeze(1)  # Shape: [batch_size]\n",
    "        loss = criterion(outputs, labels.float())  # Ensure labels are float for BCE loss\n",
    "        loss.backward()\n",
    "        optimizer.step()\n",
    "\n",
    "        total_loss += loss.item()\n",
    "\n",
    "        if batch_idx % 10 == 0:\n",
    "            print(f'Epoch [{epoch+1}/{epochs}], Batch [{batch_idx}/{len(train_loader)}], Loss: {loss.item():.4f}')\n",
    "\n",
    "    avg_loss = total_loss / len(train_loader)\n",
    "    train_losses.append(avg_loss)  # 🔹 Store average loss\n",
    "    print(f'Epoch [{epoch+1}/{epochs}], Average Loss: {avg_loss:.4f}')\n",
    "\n",
    "    # Optional: Unfreeze some layers after epoch 2\n",
    "    if epoch == 2:\n",
    "        for param in model.parameters():\n",
    "            param.requires_grad = True\n"
   ]
  },
  {
   "cell_type": "code",
   "execution_count": 22,
   "id": "3e26d763",
   "metadata": {
    "execution": {
     "iopub.execute_input": "2025-04-16T08:42:37.628346Z",
     "iopub.status.busy": "2025-04-16T08:42:37.628117Z",
     "iopub.status.idle": "2025-04-16T08:42:38.542960Z",
     "shell.execute_reply": "2025-04-16T08:42:38.542265Z"
    },
    "papermill": {
     "duration": 0.925512,
     "end_time": "2025-04-16T08:42:38.544525",
     "exception": false,
     "start_time": "2025-04-16T08:42:37.619013",
     "status": "completed"
    },
    "tags": []
   },
   "outputs": [
    {
     "name": "stderr",
     "output_type": "stream",
     "text": [
      "<ipython-input-22-afc4336fa450>:8: FutureWarning: You are using `torch.load` with `weights_only=False` (the current default value), which uses the default pickle module implicitly. It is possible to construct malicious pickle data which will execute arbitrary code during unpickling (See https://github.com/pytorch/pytorch/blob/main/SECURITY.md#untrusted-models for more details). In a future release, the default value for `weights_only` will be flipped to `True`. This limits the functions that could be executed during unpickling. Arbitrary objects will no longer be allowed to be loaded via this mode unless they are explicitly allowlisted by the user via `torch.serialization.add_safe_globals`. We recommend you start setting `weights_only=True` for any use case where you don't have full control of the loaded file. Please open an issue on GitHub for any issues related to this experimental feature.\n",
      "  checkpoint = torch.load('checkpoint.pth')\n"
     ]
    }
   ],
   "source": [
    "torch.save({\n",
    "    'epoch': epoch,\n",
    "    'model_state_dict': model.state_dict(),\n",
    "    'optimizer_state_dict': optimizer.state_dict()\n",
    "}, 'checkpoint.pth')\n",
    "\n",
    "# === Loading ===\n",
    "checkpoint = torch.load('checkpoint.pth')\n",
    "model.load_state_dict(checkpoint['model_state_dict'])\n",
    "optimizer.load_state_dict(checkpoint['optimizer_state_dict'])\n",
    "start_epoch = checkpoint['epoch'] + 1\n",
    "\n"
   ]
  },
  {
   "cell_type": "code",
   "execution_count": 23,
   "id": "c562ca54",
   "metadata": {
    "execution": {
     "iopub.execute_input": "2025-04-16T08:42:38.562660Z",
     "iopub.status.busy": "2025-04-16T08:42:38.562392Z",
     "iopub.status.idle": "2025-04-16T08:42:39.893227Z",
     "shell.execute_reply": "2025-04-16T08:42:39.892363Z"
    },
    "papermill": {
     "duration": 1.341626,
     "end_time": "2025-04-16T08:42:39.894949",
     "exception": false,
     "start_time": "2025-04-16T08:42:38.553323",
     "status": "completed"
    },
    "tags": []
   },
   "outputs": [],
   "source": [
    "import torch\n",
    "import matplotlib.pyplot as plt\n",
    "import seaborn as sns\n",
    "from sklearn.metrics import (\n",
    "    confusion_matrix, classification_report,\n",
    "    f1_score, accuracy_score, precision_score, recall_score,\n",
    "    roc_curve, roc_auc_score\n",
    ")\n",
    "\n",
    "def evaluate_model(model, val_loader, train_losses, device):\n",
    "    model.eval()\n",
    "    all_preds = []\n",
    "    all_labels = []\n",
    "    all_probs = []\n",
    "\n",
    "    with torch.no_grad():\n",
    "        for videos, labels in val_loader:\n",
    "            videos = videos.to(device)\n",
    "            labels = labels.to(device)\n",
    "\n",
    "            outputs = model(videos).squeeze(1)\n",
    "            probs = torch.sigmoid(outputs)\n",
    "            preds = torch.round(probs)\n",
    "\n",
    "            all_preds.extend(preds.cpu().numpy())\n",
    "            all_labels.extend(labels.cpu().numpy())\n",
    "            all_probs.extend(probs.cpu().numpy())\n",
    "\n",
    "    # 👉 Confusion Matrix\n",
    "    conf_mat = confusion_matrix(all_labels, all_preds)\n",
    "    print(\"\\n🔷 Confusion Matrix:\\n\", conf_mat)\n",
    "\n",
    "    # 👉 Classification Report\n",
    "    print(\"\\n🔷 Classification Report:\\n\", classification_report(all_labels, all_preds, digits=4))\n",
    "\n",
    "    # 👉 Accuracy, Precision, Recall, F1\n",
    "    acc = accuracy_score(all_labels, all_preds)\n",
    "    prec = precision_score(all_labels, all_preds)\n",
    "    rec = recall_score(all_labels, all_preds)\n",
    "    f1 = f1_score(all_labels, all_preds)\n",
    "\n",
    "    print(f\"✅ Accuracy:  {acc:.4f}\")\n",
    "    print(f\"✅ Precision: {prec:.4f}\")\n",
    "    print(f\"✅ Recall:    {rec:.4f}\")\n",
    "    print(f\"✅ F1 Score:  {f1:.4f}\")\n",
    "\n",
    "    # 👉 Plot Confusion Matrix\n",
    "    plt.figure(figsize=(5, 4))\n",
    "    sns.heatmap(conf_mat, annot=True, fmt=\"d\", cmap=\"Blues\")\n",
    "    plt.title(\"🔹 Confusion Matrix\")\n",
    "    plt.xlabel(\"Predicted\")\n",
    "    plt.ylabel(\"Actual\")\n",
    "    plt.show()\n",
    "\n",
    "    # 👉 Plot ROC Curve\n",
    "    fpr, tpr, thresholds = roc_curve(all_labels, all_probs)\n",
    "    auc_score = roc_auc_score(all_labels, all_probs)\n",
    "\n",
    "    plt.figure(figsize=(6, 5))\n",
    "    plt.plot(fpr, tpr, label=f\"AUC = {auc_score:.4f}\")\n",
    "    plt.plot([0, 1], [0, 1], 'k--')\n",
    "    plt.xlabel(\"False Positive Rate\")\n",
    "    plt.ylabel(\"True Positive Rate\")\n",
    "    plt.title(\"🔹 ROC Curve\")\n",
    "    plt.legend()\n",
    "    plt.grid(True)\n",
    "    plt.show()\n",
    "\n",
    "    # 👉 Plot Loss Graph\n",
    "    plt.figure(figsize=(6, 4))\n",
    "    plt.plot(range(1, len(train_losses) + 1), train_losses, marker='o')\n",
    "    plt.title(\"🔹 Training Loss Over Epochs\")\n",
    "    plt.xlabel(\"Epoch\")\n",
    "    plt.ylabel(\"Loss\")\n",
    "    plt.grid(True)\n",
    "    plt.show()\n",
    "\n"
   ]
  },
  {
   "cell_type": "code",
   "execution_count": 24,
   "id": "bf41068b",
   "metadata": {
    "execution": {
     "iopub.execute_input": "2025-04-16T08:42:39.914479Z",
     "iopub.status.busy": "2025-04-16T08:42:39.914083Z",
     "iopub.status.idle": "2025-04-16T08:44:32.029478Z",
     "shell.execute_reply": "2025-04-16T08:44:32.028527Z"
    },
    "papermill": {
     "duration": 112.126886,
     "end_time": "2025-04-16T08:44:32.031064",
     "exception": false,
     "start_time": "2025-04-16T08:42:39.904178",
     "status": "completed"
    },
    "tags": []
   },
   "outputs": [
    {
     "name": "stdout",
     "output_type": "stream",
     "text": [
      "\n",
      "🔷 Confusion Matrix:\n",
      " [[  2 198]\n",
      " [  0 200]]\n",
      "\n",
      "🔷 Classification Report:\n",
      "               precision    recall  f1-score   support\n",
      "\n",
      "         0.0     1.0000    0.0100    0.0198       200\n",
      "         1.0     0.5025    1.0000    0.6689       200\n",
      "\n",
      "    accuracy                         0.5050       400\n",
      "   macro avg     0.7513    0.5050    0.3443       400\n",
      "weighted avg     0.7513    0.5050    0.3443       400\n",
      "\n",
      "✅ Accuracy:  0.5050\n",
      "✅ Precision: 0.5025\n",
      "✅ Recall:    1.0000\n",
      "✅ F1 Score:  0.6689\n"
     ]
    },
    {
     "name": "stderr",
     "output_type": "stream",
     "text": [
      "/usr/local/lib/python3.10/dist-packages/IPython/core/pylabtools.py:151: UserWarning: Glyph 128313 (\\N{SMALL BLUE DIAMOND}) missing from current font.\n",
      "  fig.canvas.print_figure(bytes_io, **kw)\n"
     ]
    },
    {
     "data": {
      "image/png": "[encoded data removed]",
      "text/plain": [
       "<Figure size 500x400 with 2 Axes>"
      ]
     },
     "metadata": {},
     "output_type": "display_data"
    },
    {
     "name": "stderr",
     "output_type": "stream",
     "text": [
      "/usr/local/lib/python3.10/dist-packages/IPython/core/pylabtools.py:151: UserWarning: Glyph 128313 (\\N{SMALL BLUE DIAMOND}) missing from current font.\n",
      "  fig.canvas.print_figure(bytes_io, **kw)\n"
     ]
    },
    {
     "data": {
      "image/png": "[encoded data removed]",
      "text/plain": [
       "<Figure size 600x500 with 1 Axes>"
      ]
     },
     "metadata": {},
     "output_type": "display_data"
    },
    {
     "data": {
      "image/png": "[encoded data removed]",
      "text/plain": [
       "<Figure size 600x400 with 1 Axes>"
      ]
     },
     "metadata": {},
     "output_type": "display_data"
    }
   ],
   "source": [
    "evaluate_model(model, val_loader, train_losses, device)"
   ]
  },
  {
   "cell_type": "code",
   "execution_count": 25,
   "id": "c4de3b06",
   "metadata": {
    "execution": {
     "iopub.execute_input": "2025-04-16T08:44:32.054032Z",
     "iopub.status.busy": "2025-04-16T08:44:32.053684Z",
     "iopub.status.idle": "2025-04-16T08:46:05.900523Z",
     "shell.execute_reply": "2025-04-16T08:46:05.899651Z"
    },
    "papermill": {
     "duration": 93.868892,
     "end_time": "2025-04-16T08:46:05.911372",
     "exception": false,
     "start_time": "2025-04-16T08:44:32.042480",
     "status": "completed"
    },
    "tags": []
   },
   "outputs": [
    {
     "name": "stdout",
     "output_type": "stream",
     "text": [
      "Accuracy: 0.5050\n",
      "Confusion Matrix:\n",
      "[[  2 198]\n",
      " [  0 200]]\n"
     ]
    },
    {
     "data": {
      "image/png": "[encoded data removed]",
      "text/plain": [
       "<Figure size 640x480 with 2 Axes>"
      ]
     },
     "metadata": {},
     "output_type": "display_data"
    }
   ],
   "source": [
    "# Evaluation on Validation Data\n",
    "model.eval()\n",
    "all_preds = []\n",
    "all_labels = []\n",
    "\n",
    "with torch.no_grad():\n",
    "    for videos, labels in val_loader:\n",
    "        videos, labels = videos.to(device), labels.to(device)\n",
    "        outputs = model(videos).squeeze(1)\n",
    "        probs = torch.sigmoid(outputs)  # Convert logits to probabilities\n",
    "        preds = (probs > 0.5).float()  # Threshold for binary classification\n",
    "\n",
    "        all_preds.extend(preds.cpu().numpy())\n",
    "        all_labels.extend(labels.cpu().numpy())\n",
    "\n",
    "# Calculate accuracy and confusion matrix\n",
    "acc = accuracy_score(all_labels, all_preds)\n",
    "cm = confusion_matrix(all_labels, all_preds)\n",
    "\n",
    "print(f'Accuracy: {acc:.4f}')\n",
    "print(f'Confusion Matrix:\\n{cm}')\n",
    "\n",
    "# Plot Confusion Matrix\n",
    "import seaborn as sns\n",
    "import matplotlib.pyplot as plt\n",
    "\n",
    "sns.heatmap(cm, cmap=\"GnBu\", annot=True, fmt='d')\n",
    "plt.title(\"Confusion Matrix for RWF-2000\")\n",
    "plt.show()\n"
   ]
  },
  {
   "cell_type": "code",
   "execution_count": 26,
   "id": "2ae0511b",
   "metadata": {
    "execution": {
     "iopub.execute_input": "2025-04-16T08:46:05.932861Z",
     "iopub.status.busy": "2025-04-16T08:46:05.932570Z",
     "iopub.status.idle": "2025-04-16T08:46:06.082625Z",
     "shell.execute_reply": "2025-04-16T08:46:06.081608Z"
    },
    "papermill": {
     "duration": 0.162301,
     "end_time": "2025-04-16T08:46:06.084126",
     "exception": false,
     "start_time": "2025-04-16T08:46:05.921825",
     "status": "completed"
    },
    "tags": []
   },
   "outputs": [
    {
     "name": "stdout",
     "output_type": "stream",
     "text": [
      "total 476152\r\n",
      "-rw-r--r-- 1 root root 487499333 Apr 16 08:42 checkpoint.pth\r\n",
      "-rwxr-xr-x 1 root root       244 Apr 16 08:35 \u001b[0m\u001b[01;32mCODE_OF_CONDUCT.md\u001b[0m*\r\n",
      "drwxr-xr-x 4 root root      4096 Apr 16 08:35 \u001b[01;34mconfigs\u001b[0m/\r\n",
      "-rwxr-xr-x 1 root root       983 Apr 16 08:35 \u001b[01;32mCONTRIBUTING.md\u001b[0m*\r\n",
      "-rw-r--r-- 1 root root       328 Apr 16 08:35 environment.yml\r\n",
      "-rw-r--r-- 1 root root      1764 Apr 16 08:35 example.ipynb\r\n",
      "-rwxr-xr-x 1 root root     19332 Apr 16 08:35 \u001b[01;32mLICENSE\u001b[0m*\r\n",
      "-rwxr-xr-x 1 root root     10930 Apr 16 08:35 \u001b[01;32mREADME.md\u001b[0m*\r\n",
      "-rwxr-xr-x 1 root root       748 Apr 16 08:35 \u001b[01;32msetup.cfg\u001b[0m*\r\n",
      "-rwxr-xr-x 1 root root       570 Apr 16 08:35 \u001b[01;32msetup.py\u001b[0m*\r\n",
      "drwxr-xr-x 2 root root      4096 Apr 16 08:35 \u001b[01;34mslurm_scripts\u001b[0m/\r\n",
      "drwxr-xr-x 8 root root      4096 Apr 16 08:35 \u001b[01;34mtimesformer\u001b[0m/\r\n",
      "drwxr-xr-x 2 root root      4096 Apr 16 08:35 \u001b[01;34mtimesformer.egg-info\u001b[0m/\r\n",
      "drwxr-xr-x 2 root root      4096 Apr 16 08:35 \u001b[01;34mtools\u001b[0m/\r\n"
     ]
    }
   ],
   "source": [
    "%ls -l"
   ]
  },
  {
   "cell_type": "code",
   "execution_count": 27,
   "id": "d0f6e9fd",
   "metadata": {
    "execution": {
     "iopub.execute_input": "2025-04-16T08:46:06.105932Z",
     "iopub.status.busy": "2025-04-16T08:46:06.105655Z",
     "iopub.status.idle": "2025-04-16T08:46:06.730958Z",
     "shell.execute_reply": "2025-04-16T08:46:06.730163Z"
    },
    "papermill": {
     "duration": 0.638108,
     "end_time": "2025-04-16T08:46:06.732784",
     "exception": false,
     "start_time": "2025-04-16T08:46:06.094676",
     "status": "completed"
    },
    "tags": []
   },
   "outputs": [],
   "source": [
    "# Save fine-tuned model\n",
    "torch.save(model.state_dict(), \"/kaggle/working/timesformer_binary_final1.pth\")"
   ]
  },
  {
   "cell_type": "code",
   "execution_count": 28,
   "id": "c6ee6cd0",
   "metadata": {
    "execution": {
     "iopub.execute_input": "2025-04-16T08:46:06.757487Z",
     "iopub.status.busy": "2025-04-16T08:46:06.757207Z",
     "iopub.status.idle": "2025-04-16T08:46:09.984351Z",
     "shell.execute_reply": "2025-04-16T08:46:09.983427Z"
    },
    "papermill": {
     "duration": 3.240988,
     "end_time": "2025-04-16T08:46:09.985820",
     "exception": false,
     "start_time": "2025-04-16T08:46:06.744832",
     "status": "completed"
    },
    "tags": []
   },
   "outputs": [
    {
     "name": "stderr",
     "output_type": "stream",
     "text": [
      "<ipython-input-28-9d65a75b1e7c>:2: FutureWarning: You are using `torch.load` with `weights_only=False` (the current default value), which uses the default pickle module implicitly. It is possible to construct malicious pickle data which will execute arbitrary code during unpickling (See https://github.com/pytorch/pytorch/blob/main/SECURITY.md#untrusted-models for more details). In a future release, the default value for `weights_only` will be flipped to `True`. This limits the functions that could be executed during unpickling. Arbitrary objects will no longer be allowed to be loaded via this mode unless they are explicitly allowlisted by the user via `torch.serialization.add_safe_globals`. We recommend you start setting `weights_only=True` for any use case where you don't have full control of the loaded file. Please open an issue on GitHub for any issues related to this experimental feature.\n",
      "  model.load_state_dict(torch.load(\"/kaggle/input/timesformer_pytorch/pytorch/default/1/timesformer_binary_final1.pth\"))\n"
     ]
    },
    {
     "data": {
      "text/plain": [
       "<All keys matched successfully>"
      ]
     },
     "execution_count": 28,
     "metadata": {},
     "output_type": "execute_result"
    }
   ],
   "source": [
    "# Load for future inference_\n",
    "model.load_state_dict(torch.load(\"/kaggle/input/timesformer_pytorch/pytorch/default/1/timesformer_binary_final1.pth\"))"
   ]
  },
  {
   "cell_type": "code",
   "execution_count": 29,
   "id": "ca9c3386",
   "metadata": {
    "execution": {
     "iopub.execute_input": "2025-04-16T08:46:10.009983Z",
     "iopub.status.busy": "2025-04-16T08:46:10.009650Z",
     "iopub.status.idle": "2025-04-16T08:51:59.534478Z",
     "shell.execute_reply": "2025-04-16T08:51:59.533412Z"
    },
    "papermill": {
     "duration": 349.539123,
     "end_time": "2025-04-16T08:51:59.536392",
     "exception": false,
     "start_time": "2025-04-16T08:46:09.997269",
     "status": "completed"
    },
    "tags": []
   },
   "outputs": [],
   "source": [
    "\n",
    "# Evaluation\n",
    "model.eval()\n",
    "all_preds = []\n",
    "all_labels = []\n",
    "\n",
    "with torch.no_grad():\n",
    "    for videos, labels in train_loader:\n",
    "        videos, labels = videos.to(device), labels.to(device)\n",
    "        outputs = model(videos).squeeze(1)\n",
    "        probs = torch.sigmoid(outputs)  # Convert logits to probabilities\n",
    "        preds = (probs > 0.5).float()  # Use threshold for binary classification\n",
    "        \n",
    "        all_preds.extend(preds.cpu().numpy())\n",
    "        all_labels.extend(labels.cpu().numpy())\n",
    "\n"
   ]
  },
  {
   "cell_type": "code",
   "execution_count": 30,
   "id": "0deb0205",
   "metadata": {
    "execution": {
     "iopub.execute_input": "2025-04-16T08:51:59.560069Z",
     "iopub.status.busy": "2025-04-16T08:51:59.559824Z",
     "iopub.status.idle": "2025-04-16T08:51:59.569456Z",
     "shell.execute_reply": "2025-04-16T08:51:59.568346Z"
    },
    "papermill": {
     "duration": 0.022885,
     "end_time": "2025-04-16T08:51:59.571087",
     "exception": false,
     "start_time": "2025-04-16T08:51:59.548202",
     "status": "completed"
    },
    "tags": []
   },
   "outputs": [
    {
     "name": "stdout",
     "output_type": "stream",
     "text": [
      "Accuracy: 0.9731\n",
      "Confusion Matrix:\n",
      "[[759  41]\n",
      " [  2 798]]\n"
     ]
    }
   ],
   "source": [
    "# Calculate accuracy and confusion matrix\n",
    "acc = accuracy_score(all_labels, all_preds)\n",
    "cm = confusion_matrix(all_labels, all_preds)\n",
    "\n",
    "print(f'Accuracy: {acc:.4f}')\n",
    "print(f'Confusion Matrix:\\n{cm}')"
   ]
  },
  {
   "cell_type": "code",
   "execution_count": 31,
   "id": "65665091",
   "metadata": {
    "execution": {
     "iopub.execute_input": "2025-04-16T08:51:59.593966Z",
     "iopub.status.busy": "2025-04-16T08:51:59.593723Z",
     "iopub.status.idle": "2025-04-16T08:51:59.769973Z",
     "shell.execute_reply": "2025-04-16T08:51:59.769159Z"
    },
    "papermill": {
     "duration": 0.188809,
     "end_time": "2025-04-16T08:51:59.771181",
     "exception": false,
     "start_time": "2025-04-16T08:51:59.582372",
     "status": "completed"
    },
    "tags": []
   },
   "outputs": [
    {
     "data": {
      "image/png": "[encoded data removed]",
      "text/plain": [
       "<Figure size 640x480 with 2 Axes>"
      ]
     },
     "metadata": {},
     "output_type": "display_data"
    }
   ],
   "source": [
    "import seaborn as sns\n",
    "import matplotlib.pyplot as plt\n",
    "\n",
    "sns.heatmap(cm, cmap=\"GnBu\", annot=True, fmt='d')\n",
    "plt.title(\"Confusion Matrix for RWF-2000 Training Set\", )\n",
    "\n",
    "plt.show()"
   ]
  },
  {
   "cell_type": "code",
   "execution_count": 32,
   "id": "a8ec958e",
   "metadata": {
    "execution": {
     "iopub.execute_input": "2025-04-16T08:51:59.795158Z",
     "iopub.status.busy": "2025-04-16T08:51:59.794943Z",
     "iopub.status.idle": "2025-04-16T08:51:59.830355Z",
     "shell.execute_reply": "2025-04-16T08:51:59.829678Z"
    },
    "papermill": {
     "duration": 0.049639,
     "end_time": "2025-04-16T08:51:59.832604",
     "exception": false,
     "start_time": "2025-04-16T08:51:59.782965",
     "status": "completed"
    },
    "tags": []
   },
   "outputs": [
    {
     "name": "stdout",
     "output_type": "stream",
     "text": [
      "Total Parameters: 121455873\n",
      "Trainable Parameters: 197121\n",
      "model.cls_token: torch.Size([1, 1, 768]) | Requires Grad: False\n",
      "model.pos_embed: torch.Size([1, 197, 768]) | Requires Grad: False\n",
      "model.time_embed: torch.Size([1, 8, 768]) | Requires Grad: False\n",
      "model.patch_embed.proj.weight: torch.Size([768, 3, 16, 16]) | Requires Grad: False\n",
      "model.patch_embed.proj.bias: torch.Size([768]) | Requires Grad: False\n",
      "model.blocks.0.norm1.weight: torch.Size([768]) | Requires Grad: False\n",
      "model.blocks.0.norm1.bias: torch.Size([768]) | Requires Grad: False\n",
      "model.blocks.0.attn.qkv.weight: torch.Size([2304, 768]) | Requires Grad: False\n",
      "model.blocks.0.attn.qkv.bias: torch.Size([2304]) | Requires Grad: False\n",
      "model.blocks.0.attn.proj.weight: torch.Size([768, 768]) | Requires Grad: False\n",
      "model.blocks.0.attn.proj.bias: torch.Size([768]) | Requires Grad: False\n",
      "model.blocks.0.temporal_norm1.weight: torch.Size([768]) | Requires Grad: False\n",
      "model.blocks.0.temporal_norm1.bias: torch.Size([768]) | Requires Grad: False\n",
      "model.blocks.0.temporal_attn.qkv.weight: torch.Size([2304, 768]) | Requires Grad: False\n",
      "model.blocks.0.temporal_attn.qkv.bias: torch.Size([2304]) | Requires Grad: False\n",
      "model.blocks.0.temporal_attn.proj.weight: torch.Size([768, 768]) | Requires Grad: False\n",
      "model.blocks.0.temporal_attn.proj.bias: torch.Size([768]) | Requires Grad: False\n",
      "model.blocks.0.temporal_fc.weight: torch.Size([768, 768]) | Requires Grad: False\n",
      "model.blocks.0.temporal_fc.bias: torch.Size([768]) | Requires Grad: False\n",
      "model.blocks.0.norm2.weight: torch.Size([768]) | Requires Grad: False\n",
      "model.blocks.0.norm2.bias: torch.Size([768]) | Requires Grad: False\n",
      "model.blocks.0.mlp.fc1.weight: torch.Size([3072, 768]) | Requires Grad: False\n",
      "model.blocks.0.mlp.fc1.bias: torch.Size([3072]) | Requires Grad: False\n",
      "model.blocks.0.mlp.fc2.weight: torch.Size([768, 3072]) | Requires Grad: False\n",
      "model.blocks.0.mlp.fc2.bias: torch.Size([768]) | Requires Grad: False\n",
      "model.blocks.1.norm1.weight: torch.Size([768]) | Requires Grad: False\n",
      "model.blocks.1.norm1.bias: torch.Size([768]) | Requires Grad: False\n",
      "model.blocks.1.attn.qkv.weight: torch.Size([2304, 768]) | Requires Grad: False\n",
      "model.blocks.1.attn.qkv.bias: torch.Size([2304]) | Requires Grad: False\n",
      "model.blocks.1.attn.proj.weight: torch.Size([768, 768]) | Requires Grad: False\n",
      "model.blocks.1.attn.proj.bias: torch.Size([768]) | Requires Grad: False\n",
      "model.blocks.1.temporal_norm1.weight: torch.Size([768]) | Requires Grad: False\n",
      "model.blocks.1.temporal_norm1.bias: torch.Size([768]) | Requires Grad: False\n",
      "model.blocks.1.temporal_attn.qkv.weight: torch.Size([2304, 768]) | Requires Grad: False\n",
      "model.blocks.1.temporal_attn.qkv.bias: torch.Size([2304]) | Requires Grad: False\n",
      "model.blocks.1.temporal_attn.proj.weight: torch.Size([768, 768]) | Requires Grad: False\n",
      "model.blocks.1.temporal_attn.proj.bias: torch.Size([768]) | Requires Grad: False\n",
      "model.blocks.1.temporal_fc.weight: torch.Size([768, 768]) | Requires Grad: False\n",
      "model.blocks.1.temporal_fc.bias: torch.Size([768]) | Requires Grad: False\n",
      "model.blocks.1.norm2.weight: torch.Size([768]) | Requires Grad: False\n",
      "model.blocks.1.norm2.bias: torch.Size([768]) | Requires Grad: False\n",
      "model.blocks.1.mlp.fc1.weight: torch.Size([3072, 768]) | Requires Grad: False\n",
      "model.blocks.1.mlp.fc1.bias: torch.Size([3072]) | Requires Grad: False\n",
      "model.blocks.1.mlp.fc2.weight: torch.Size([768, 3072]) | Requires Grad: False\n",
      "model.blocks.1.mlp.fc2.bias: torch.Size([768]) | Requires Grad: False\n",
      "model.blocks.2.norm1.weight: torch.Size([768]) | Requires Grad: False\n",
      "model.blocks.2.norm1.bias: torch.Size([768]) | Requires Grad: False\n",
      "model.blocks.2.attn.qkv.weight: torch.Size([2304, 768]) | Requires Grad: False\n",
      "model.blocks.2.attn.qkv.bias: torch.Size([2304]) | Requires Grad: False\n",
      "model.blocks.2.attn.proj.weight: torch.Size([768, 768]) | Requires Grad: False\n",
      "model.blocks.2.attn.proj.bias: torch.Size([768]) | Requires Grad: False\n",
      "model.blocks.2.temporal_norm1.weight: torch.Size([768]) | Requires Grad: False\n",
      "model.blocks.2.temporal_norm1.bias: torch.Size([768]) | Requires Grad: False\n",
      "model.blocks.2.temporal_attn.qkv.weight: torch.Size([2304, 768]) | Requires Grad: False\n",
      "model.blocks.2.temporal_attn.qkv.bias: torch.Size([2304]) | Requires Grad: False\n",
      "model.blocks.2.temporal_attn.proj.weight: torch.Size([768, 768]) | Requires Grad: False\n",
      "model.blocks.2.temporal_attn.proj.bias: torch.Size([768]) | Requires Grad: False\n",
      "model.blocks.2.temporal_fc.weight: torch.Size([768, 768]) | Requires Grad: False\n",
      "model.blocks.2.temporal_fc.bias: torch.Size([768]) | Requires Grad: False\n",
      "model.blocks.2.norm2.weight: torch.Size([768]) | Requires Grad: False\n",
      "model.blocks.2.norm2.bias: torch.Size([768]) | Requires Grad: False\n",
      "model.blocks.2.mlp.fc1.weight: torch.Size([3072, 768]) | Requires Grad: False\n",
      "model.blocks.2.mlp.fc1.bias: torch.Size([3072]) | Requires Grad: False\n",
      "model.blocks.2.mlp.fc2.weight: torch.Size([768, 3072]) | Requires Grad: False\n",
      "model.blocks.2.mlp.fc2.bias: torch.Size([768]) | Requires Grad: False\n",
      "model.blocks.3.norm1.weight: torch.Size([768]) | Requires Grad: False\n",
      "model.blocks.3.norm1.bias: torch.Size([768]) | Requires Grad: False\n",
      "model.blocks.3.attn.qkv.weight: torch.Size([2304, 768]) | Requires Grad: False\n",
      "model.blocks.3.attn.qkv.bias: torch.Size([2304]) | Requires Grad: False\n",
      "model.blocks.3.attn.proj.weight: torch.Size([768, 768]) | Requires Grad: False\n",
      "model.blocks.3.attn.proj.bias: torch.Size([768]) | Requires Grad: False\n",
      "model.blocks.3.temporal_norm1.weight: torch.Size([768]) | Requires Grad: False\n",
      "model.blocks.3.temporal_norm1.bias: torch.Size([768]) | Requires Grad: False\n",
      "model.blocks.3.temporal_attn.qkv.weight: torch.Size([2304, 768]) | Requires Grad: False\n",
      "model.blocks.3.temporal_attn.qkv.bias: torch.Size([2304]) | Requires Grad: False\n",
      "model.blocks.3.temporal_attn.proj.weight: torch.Size([768, 768]) | Requires Grad: False\n",
      "model.blocks.3.temporal_attn.proj.bias: torch.Size([768]) | Requires Grad: False\n",
      "model.blocks.3.temporal_fc.weight: torch.Size([768, 768]) | Requires Grad: False\n",
      "model.blocks.3.temporal_fc.bias: torch.Size([768]) | Requires Grad: False\n",
      "model.blocks.3.norm2.weight: torch.Size([768]) | Requires Grad: False\n",
      "model.blocks.3.norm2.bias: torch.Size([768]) | Requires Grad: False\n",
      "model.blocks.3.mlp.fc1.weight: torch.Size([3072, 768]) | Requires Grad: False\n",
      "model.blocks.3.mlp.fc1.bias: torch.Size([3072]) | Requires Grad: False\n",
      "model.blocks.3.mlp.fc2.weight: torch.Size([768, 3072]) | Requires Grad: False\n",
      "model.blocks.3.mlp.fc2.bias: torch.Size([768]) | Requires Grad: False\n",
      "model.blocks.4.norm1.weight: torch.Size([768]) | Requires Grad: False\n",
      "model.blocks.4.norm1.bias: torch.Size([768]) | Requires Grad: False\n",
      "model.blocks.4.attn.qkv.weight: torch.Size([2304, 768]) | Requires Grad: False\n",
      "model.blocks.4.attn.qkv.bias: torch.Size([2304]) | Requires Grad: False\n",
      "model.blocks.4.attn.proj.weight: torch.Size([768, 768]) | Requires Grad: False\n",
      "model.blocks.4.attn.proj.bias: torch.Size([768]) | Requires Grad: False\n",
      "model.blocks.4.temporal_norm1.weight: torch.Size([768]) | Requires Grad: False\n",
      "model.blocks.4.temporal_norm1.bias: torch.Size([768]) | Requires Grad: False\n",
      "model.blocks.4.temporal_attn.qkv.weight: torch.Size([2304, 768]) | Requires Grad: False\n",
      "model.blocks.4.temporal_attn.qkv.bias: torch.Size([2304]) | Requires Grad: False\n",
      "model.blocks.4.temporal_attn.proj.weight: torch.Size([768, 768]) | Requires Grad: False\n",
      "model.blocks.4.temporal_attn.proj.bias: torch.Size([768]) | Requires Grad: False\n",
      "model.blocks.4.temporal_fc.weight: torch.Size([768, 768]) | Requires Grad: False\n",
      "model.blocks.4.temporal_fc.bias: torch.Size([768]) | Requires Grad: False\n",
      "model.blocks.4.norm2.weight: torch.Size([768]) | Requires Grad: False\n",
      "model.blocks.4.norm2.bias: torch.Size([768]) | Requires Grad: False\n",
      "model.blocks.4.mlp.fc1.weight: torch.Size([3072, 768]) | Requires Grad: False\n",
      "model.blocks.4.mlp.fc1.bias: torch.Size([3072]) | Requires Grad: False\n",
      "model.blocks.4.mlp.fc2.weight: torch.Size([768, 3072]) | Requires Grad: False\n",
      "model.blocks.4.mlp.fc2.bias: torch.Size([768]) | Requires Grad: False\n",
      "model.blocks.5.norm1.weight: torch.Size([768]) | Requires Grad: False\n",
      "model.blocks.5.norm1.bias: torch.Size([768]) | Requires Grad: False\n",
      "model.blocks.5.attn.qkv.weight: torch.Size([2304, 768]) | Requires Grad: False\n",
      "model.blocks.5.attn.qkv.bias: torch.Size([2304]) | Requires Grad: False\n",
      "model.blocks.5.attn.proj.weight: torch.Size([768, 768]) | Requires Grad: False\n",
      "model.blocks.5.attn.proj.bias: torch.Size([768]) | Requires Grad: False\n",
      "model.blocks.5.temporal_norm1.weight: torch.Size([768]) | Requires Grad: False\n",
      "model.blocks.5.temporal_norm1.bias: torch.Size([768]) | Requires Grad: False\n",
      "model.blocks.5.temporal_attn.qkv.weight: torch.Size([2304, 768]) | Requires Grad: False\n",
      "model.blocks.5.temporal_attn.qkv.bias: torch.Size([2304]) | Requires Grad: False\n",
      "model.blocks.5.temporal_attn.proj.weight: torch.Size([768, 768]) | Requires Grad: False\n",
      "model.blocks.5.temporal_attn.proj.bias: torch.Size([768]) | Requires Grad: False\n",
      "model.blocks.5.temporal_fc.weight: torch.Size([768, 768]) | Requires Grad: False\n",
      "model.blocks.5.temporal_fc.bias: torch.Size([768]) | Requires Grad: False\n",
      "model.blocks.5.norm2.weight: torch.Size([768]) | Requires Grad: False\n",
      "model.blocks.5.norm2.bias: torch.Size([768]) | Requires Grad: False\n",
      "model.blocks.5.mlp.fc1.weight: torch.Size([3072, 768]) | Requires Grad: False\n",
      "model.blocks.5.mlp.fc1.bias: torch.Size([3072]) | Requires Grad: False\n",
      "model.blocks.5.mlp.fc2.weight: torch.Size([768, 3072]) | Requires Grad: False\n",
      "model.blocks.5.mlp.fc2.bias: torch.Size([768]) | Requires Grad: False\n",
      "model.blocks.6.norm1.weight: torch.Size([768]) | Requires Grad: False\n",
      "model.blocks.6.norm1.bias: torch.Size([768]) | Requires Grad: False\n",
      "model.blocks.6.attn.qkv.weight: torch.Size([2304, 768]) | Requires Grad: False\n",
      "model.blocks.6.attn.qkv.bias: torch.Size([2304]) | Requires Grad: False\n",
      "model.blocks.6.attn.proj.weight: torch.Size([768, 768]) | Requires Grad: False\n",
      "model.blocks.6.attn.proj.bias: torch.Size([768]) | Requires Grad: False\n",
      "model.blocks.6.temporal_norm1.weight: torch.Size([768]) | Requires Grad: False\n",
      "model.blocks.6.temporal_norm1.bias: torch.Size([768]) | Requires Grad: False\n",
      "model.blocks.6.temporal_attn.qkv.weight: torch.Size([2304, 768]) | Requires Grad: False\n",
      "model.blocks.6.temporal_attn.qkv.bias: torch.Size([2304]) | Requires Grad: False\n",
      "model.blocks.6.temporal_attn.proj.weight: torch.Size([768, 768]) | Requires Grad: False\n",
      "model.blocks.6.temporal_attn.proj.bias: torch.Size([768]) | Requires Grad: False\n",
      "model.blocks.6.temporal_fc.weight: torch.Size([768, 768]) | Requires Grad: False\n",
      "model.blocks.6.temporal_fc.bias: torch.Size([768]) | Requires Grad: False\n",
      "model.blocks.6.norm2.weight: torch.Size([768]) | Requires Grad: False\n",
      "model.blocks.6.norm2.bias: torch.Size([768]) | Requires Grad: False\n",
      "model.blocks.6.mlp.fc1.weight: torch.Size([3072, 768]) | Requires Grad: False\n",
      "model.blocks.6.mlp.fc1.bias: torch.Size([3072]) | Requires Grad: False\n",
      "model.blocks.6.mlp.fc2.weight: torch.Size([768, 3072]) | Requires Grad: False\n",
      "model.blocks.6.mlp.fc2.bias: torch.Size([768]) | Requires Grad: False\n",
      "model.blocks.7.norm1.weight: torch.Size([768]) | Requires Grad: False\n",
      "model.blocks.7.norm1.bias: torch.Size([768]) | Requires Grad: False\n",
      "model.blocks.7.attn.qkv.weight: torch.Size([2304, 768]) | Requires Grad: False\n",
      "model.blocks.7.attn.qkv.bias: torch.Size([2304]) | Requires Grad: False\n",
      "model.blocks.7.attn.proj.weight: torch.Size([768, 768]) | Requires Grad: False\n",
      "model.blocks.7.attn.proj.bias: torch.Size([768]) | Requires Grad: False\n",
      "model.blocks.7.temporal_norm1.weight: torch.Size([768]) | Requires Grad: False\n",
      "model.blocks.7.temporal_norm1.bias: torch.Size([768]) | Requires Grad: False\n",
      "model.blocks.7.temporal_attn.qkv.weight: torch.Size([2304, 768]) | Requires Grad: False\n",
      "model.blocks.7.temporal_attn.qkv.bias: torch.Size([2304]) | Requires Grad: False\n",
      "model.blocks.7.temporal_attn.proj.weight: torch.Size([768, 768]) | Requires Grad: False\n",
      "model.blocks.7.temporal_attn.proj.bias: torch.Size([768]) | Requires Grad: False\n",
      "model.blocks.7.temporal_fc.weight: torch.Size([768, 768]) | Requires Grad: False\n",
      "model.blocks.7.temporal_fc.bias: torch.Size([768]) | Requires Grad: False\n",
      "model.blocks.7.norm2.weight: torch.Size([768]) | Requires Grad: False\n",
      "model.blocks.7.norm2.bias: torch.Size([768]) | Requires Grad: False\n",
      "model.blocks.7.mlp.fc1.weight: torch.Size([3072, 768]) | Requires Grad: False\n",
      "model.blocks.7.mlp.fc1.bias: torch.Size([3072]) | Requires Grad: False\n",
      "model.blocks.7.mlp.fc2.weight: torch.Size([768, 3072]) | Requires Grad: False\n",
      "model.blocks.7.mlp.fc2.bias: torch.Size([768]) | Requires Grad: False\n",
      "model.blocks.8.norm1.weight: torch.Size([768]) | Requires Grad: False\n",
      "model.blocks.8.norm1.bias: torch.Size([768]) | Requires Grad: False\n",
      "model.blocks.8.attn.qkv.weight: torch.Size([2304, 768]) | Requires Grad: False\n",
      "model.blocks.8.attn.qkv.bias: torch.Size([2304]) | Requires Grad: False\n",
      "model.blocks.8.attn.proj.weight: torch.Size([768, 768]) | Requires Grad: False\n",
      "model.blocks.8.attn.proj.bias: torch.Size([768]) | Requires Grad: False\n",
      "model.blocks.8.temporal_norm1.weight: torch.Size([768]) | Requires Grad: False\n",
      "model.blocks.8.temporal_norm1.bias: torch.Size([768]) | Requires Grad: False\n",
      "model.blocks.8.temporal_attn.qkv.weight: torch.Size([2304, 768]) | Requires Grad: False\n",
      "model.blocks.8.temporal_attn.qkv.bias: torch.Size([2304]) | Requires Grad: False\n",
      "model.blocks.8.temporal_attn.proj.weight: torch.Size([768, 768]) | Requires Grad: False\n",
      "model.blocks.8.temporal_attn.proj.bias: torch.Size([768]) | Requires Grad: False\n",
      "model.blocks.8.temporal_fc.weight: torch.Size([768, 768]) | Requires Grad: False\n",
      "model.blocks.8.temporal_fc.bias: torch.Size([768]) | Requires Grad: False\n",
      "model.blocks.8.norm2.weight: torch.Size([768]) | Requires Grad: False\n",
      "model.blocks.8.norm2.bias: torch.Size([768]) | Requires Grad: False\n",
      "model.blocks.8.mlp.fc1.weight: torch.Size([3072, 768]) | Requires Grad: False\n",
      "model.blocks.8.mlp.fc1.bias: torch.Size([3072]) | Requires Grad: False\n",
      "model.blocks.8.mlp.fc2.weight: torch.Size([768, 3072]) | Requires Grad: False\n",
      "model.blocks.8.mlp.fc2.bias: torch.Size([768]) | Requires Grad: False\n",
      "model.blocks.9.norm1.weight: torch.Size([768]) | Requires Grad: False\n",
      "model.blocks.9.norm1.bias: torch.Size([768]) | Requires Grad: False\n",
      "model.blocks.9.attn.qkv.weight: torch.Size([2304, 768]) | Requires Grad: False\n",
      "model.blocks.9.attn.qkv.bias: torch.Size([2304]) | Requires Grad: False\n",
      "model.blocks.9.attn.proj.weight: torch.Size([768, 768]) | Requires Grad: False\n",
      "model.blocks.9.attn.proj.bias: torch.Size([768]) | Requires Grad: False\n",
      "model.blocks.9.temporal_norm1.weight: torch.Size([768]) | Requires Grad: False\n",
      "model.blocks.9.temporal_norm1.bias: torch.Size([768]) | Requires Grad: False\n",
      "model.blocks.9.temporal_attn.qkv.weight: torch.Size([2304, 768]) | Requires Grad: False\n",
      "model.blocks.9.temporal_attn.qkv.bias: torch.Size([2304]) | Requires Grad: False\n",
      "model.blocks.9.temporal_attn.proj.weight: torch.Size([768, 768]) | Requires Grad: False\n",
      "model.blocks.9.temporal_attn.proj.bias: torch.Size([768]) | Requires Grad: False\n",
      "model.blocks.9.temporal_fc.weight: torch.Size([768, 768]) | Requires Grad: False\n",
      "model.blocks.9.temporal_fc.bias: torch.Size([768]) | Requires Grad: False\n",
      "model.blocks.9.norm2.weight: torch.Size([768]) | Requires Grad: False\n",
      "model.blocks.9.norm2.bias: torch.Size([768]) | Requires Grad: False\n",
      "model.blocks.9.mlp.fc1.weight: torch.Size([3072, 768]) | Requires Grad: False\n",
      "model.blocks.9.mlp.fc1.bias: torch.Size([3072]) | Requires Grad: False\n",
      "model.blocks.9.mlp.fc2.weight: torch.Size([768, 3072]) | Requires Grad: False\n",
      "model.blocks.9.mlp.fc2.bias: torch.Size([768]) | Requires Grad: False\n",
      "model.blocks.10.norm1.weight: torch.Size([768]) | Requires Grad: False\n",
      "model.blocks.10.norm1.bias: torch.Size([768]) | Requires Grad: False\n",
      "model.blocks.10.attn.qkv.weight: torch.Size([2304, 768]) | Requires Grad: False\n",
      "model.blocks.10.attn.qkv.bias: torch.Size([2304]) | Requires Grad: False\n",
      "model.blocks.10.attn.proj.weight: torch.Size([768, 768]) | Requires Grad: False\n",
      "model.blocks.10.attn.proj.bias: torch.Size([768]) | Requires Grad: False\n",
      "model.blocks.10.temporal_norm1.weight: torch.Size([768]) | Requires Grad: False\n",
      "model.blocks.10.temporal_norm1.bias: torch.Size([768]) | Requires Grad: False\n",
      "model.blocks.10.temporal_attn.qkv.weight: torch.Size([2304, 768]) | Requires Grad: False\n",
      "model.blocks.10.temporal_attn.qkv.bias: torch.Size([2304]) | Requires Grad: False\n",
      "model.blocks.10.temporal_attn.proj.weight: torch.Size([768, 768]) | Requires Grad: False\n",
      "model.blocks.10.temporal_attn.proj.bias: torch.Size([768]) | Requires Grad: False\n",
      "model.blocks.10.temporal_fc.weight: torch.Size([768, 768]) | Requires Grad: False\n",
      "model.blocks.10.temporal_fc.bias: torch.Size([768]) | Requires Grad: False\n",
      "model.blocks.10.norm2.weight: torch.Size([768]) | Requires Grad: False\n",
      "model.blocks.10.norm2.bias: torch.Size([768]) | Requires Grad: False\n",
      "model.blocks.10.mlp.fc1.weight: torch.Size([3072, 768]) | Requires Grad: False\n",
      "model.blocks.10.mlp.fc1.bias: torch.Size([3072]) | Requires Grad: False\n",
      "model.blocks.10.mlp.fc2.weight: torch.Size([768, 3072]) | Requires Grad: False\n",
      "model.blocks.10.mlp.fc2.bias: torch.Size([768]) | Requires Grad: False\n",
      "model.blocks.11.norm1.weight: torch.Size([768]) | Requires Grad: False\n",
      "model.blocks.11.norm1.bias: torch.Size([768]) | Requires Grad: False\n",
      "model.blocks.11.attn.qkv.weight: torch.Size([2304, 768]) | Requires Grad: False\n",
      "model.blocks.11.attn.qkv.bias: torch.Size([2304]) | Requires Grad: False\n",
      "model.blocks.11.attn.proj.weight: torch.Size([768, 768]) | Requires Grad: False\n",
      "model.blocks.11.attn.proj.bias: torch.Size([768]) | Requires Grad: False\n",
      "model.blocks.11.temporal_norm1.weight: torch.Size([768]) | Requires Grad: False\n",
      "model.blocks.11.temporal_norm1.bias: torch.Size([768]) | Requires Grad: False\n",
      "model.blocks.11.temporal_attn.qkv.weight: torch.Size([2304, 768]) | Requires Grad: False\n",
      "model.blocks.11.temporal_attn.qkv.bias: torch.Size([2304]) | Requires Grad: False\n",
      "model.blocks.11.temporal_attn.proj.weight: torch.Size([768, 768]) | Requires Grad: False\n",
      "model.blocks.11.temporal_attn.proj.bias: torch.Size([768]) | Requires Grad: False\n",
      "model.blocks.11.temporal_fc.weight: torch.Size([768, 768]) | Requires Grad: False\n",
      "model.blocks.11.temporal_fc.bias: torch.Size([768]) | Requires Grad: False\n",
      "model.blocks.11.norm2.weight: torch.Size([768]) | Requires Grad: False\n",
      "model.blocks.11.norm2.bias: torch.Size([768]) | Requires Grad: False\n",
      "model.blocks.11.mlp.fc1.weight: torch.Size([3072, 768]) | Requires Grad: False\n",
      "model.blocks.11.mlp.fc1.bias: torch.Size([3072]) | Requires Grad: False\n",
      "model.blocks.11.mlp.fc2.weight: torch.Size([768, 3072]) | Requires Grad: False\n",
      "model.blocks.11.mlp.fc2.bias: torch.Size([768]) | Requires Grad: False\n",
      "model.norm.weight: torch.Size([768]) | Requires Grad: False\n",
      "model.norm.bias: torch.Size([768]) | Requires Grad: False\n",
      "model.head.0.weight: torch.Size([256, 768]) | Requires Grad: True\n",
      "model.head.0.bias: torch.Size([256]) | Requires Grad: True\n",
      "model.head.2.weight: torch.Size([1, 256]) | Requires Grad: True\n",
      "model.head.2.bias: torch.Size([1]) | Requires Grad: True\n"
     ]
    }
   ],
   "source": [
    "total_params = sum(p.numel() for p in model.parameters())\n",
    "trainable_params = sum(p.numel() for p in model.parameters() if p.requires_grad)\n",
    "\n",
    "print(f\"Total Parameters: {total_params}\")\n",
    "print(f\"Trainable Parameters: {trainable_params}\")\n",
    "\n",
    "for name, param in model.named_parameters():\n",
    "    print(f\"{name}: {param.shape} | Requires Grad: {param.requires_grad}\")\n"
   ]
  },
  {
   "cell_type": "code",
   "execution_count": 33,
   "id": "6c943825",
   "metadata": {
    "execution": {
     "iopub.execute_input": "2025-04-16T08:51:59.856893Z",
     "iopub.status.busy": "2025-04-16T08:51:59.856669Z",
     "iopub.status.idle": "2025-04-16T08:52:00.030312Z",
     "shell.execute_reply": "2025-04-16T08:52:00.029305Z"
    },
    "papermill": {
     "duration": 0.187248,
     "end_time": "2025-04-16T08:52:00.031849",
     "exception": false,
     "start_time": "2025-04-16T08:51:59.844601",
     "status": "completed"
    },
    "tags": []
   },
   "outputs": [
    {
     "data": {
      "image/png": "[encoded data removed]",
      "text/plain": [
       "<Figure size 800x500 with 1 Axes>"
      ]
     },
     "metadata": {},
     "output_type": "display_data"
    }
   ],
   "source": [
    "import matplotlib.pyplot as plt\n",
    "\n",
    "plt.figure(figsize=(8, 5))\n",
    "plt.plot(range(1, epochs + 1), train_losses, label=\"Training Loss\", marker='o', linestyle='-')\n",
    "plt.xlabel(\"Epochs\")\n",
    "plt.ylabel(\"Loss\")\n",
    "plt.title(\"Training Loss Curve\")\n",
    "plt.legend()\n",
    "plt.grid(True)\n",
    "plt.show()"
   ]
  },
  {
   "cell_type": "code",
   "execution_count": 34,
   "id": "fe475b32",
   "metadata": {
    "execution": {
     "iopub.execute_input": "2025-04-16T08:52:00.058990Z",
     "iopub.status.busy": "2025-04-16T08:52:00.058688Z",
     "iopub.status.idle": "2025-04-16T08:52:02.956866Z",
     "shell.execute_reply": "2025-04-16T08:52:02.955926Z"
    },
    "papermill": {
     "duration": 2.913154,
     "end_time": "2025-04-16T08:52:02.958114",
     "exception": false,
     "start_time": "2025-04-16T08:52:00.044960",
     "status": "completed"
    },
    "tags": []
   },
   "outputs": [
    {
     "name": "stderr",
     "output_type": "stream",
     "text": [
      "<ipython-input-34-ab8511db9441>:20: FutureWarning: You are using `torch.load` with `weights_only=False` (the current default value), which uses the default pickle module implicitly. It is possible to construct malicious pickle data which will execute arbitrary code during unpickling (See https://github.com/pytorch/pytorch/blob/main/SECURITY.md#untrusted-models for more details). In a future release, the default value for `weights_only` will be flipped to `True`. This limits the functions that could be executed during unpickling. Arbitrary objects will no longer be allowed to be loaded via this mode unless they are explicitly allowlisted by the user via `torch.serialization.add_safe_globals`. We recommend you start setting `weights_only=True` for any use case where you don't have full control of the loaded file. Please open an issue on GitHub for any issues related to this experimental feature.\n",
      "  model.load_state_dict(torch.load(model_path, map_location=\"cuda\"))\n"
     ]
    },
    {
     "name": "stdout",
     "output_type": "stream",
     "text": [
      "✅ Model loaded successfully with custom head!\n"
     ]
    }
   ],
   "source": [
    "import torch\n",
    "import torch.nn as nn\n",
    "from timesformer.models.vit import TimeSformer\n",
    "\n",
    "# Define the correct model with custom head\n",
    "class ModifiedTimeSformer(TimeSformer):\n",
    "    def __init__(self, img_size=224, num_classes=1):\n",
    "        super(ModifiedTimeSformer, self).__init__(img_size=img_size, num_classes=num_classes)\n",
    "        \n",
    "        # Correctly restore the custom head you used during training\n",
    "        self.model.head = nn.Sequential(\n",
    "            nn.Linear(self.model.head.in_features, 256),  # Intermediate layer\n",
    "            nn.ReLU(),\n",
    "            nn.Linear(256, 1)  # Binary classification (logit output)\n",
    "        )\n",
    "\n",
    "# Instantiate the modified model\n",
    "model_path = \"/kaggle/input/timesformer_pytorch/pytorch/default/1/timesformer_binary_final1.pth\"  # Correct path to your model\n",
    "model = ModifiedTimeSformer(img_size=224)\n",
    "model.load_state_dict(torch.load(model_path, map_location=\"cuda\"))\n",
    "model.to(\"cuda\")\n",
    "model.eval()\n",
    "\n",
    "print(\"✅ Model loaded successfully with custom head!\")\n"
   ]
  },
  {
   "cell_type": "code",
   "execution_count": 35,
   "id": "f0c79fd5",
   "metadata": {
    "execution": {
     "iopub.execute_input": "2025-04-16T08:52:02.984299Z",
     "iopub.status.busy": "2025-04-16T08:52:02.984011Z",
     "iopub.status.idle": "2025-04-16T08:52:02.989708Z",
     "shell.execute_reply": "2025-04-16T08:52:02.989070Z"
    },
    "papermill": {
     "duration": 0.020186,
     "end_time": "2025-04-16T08:52:02.990990",
     "exception": false,
     "start_time": "2025-04-16T08:52:02.970804",
     "status": "completed"
    },
    "tags": []
   },
   "outputs": [],
   "source": [
    "# Function to preprocess the video\n",
    "def preprocess_video(video_path, num_frames=8, img_size=224):\n",
    "    cap = cv2.VideoCapture(video_path)\n",
    "    frames = []\n",
    "    frame_count = int(cap.get(cv2.CAP_PROP_FRAME_COUNT))\n",
    "    step = max(1, frame_count // num_frames)\n",
    "\n",
    "    for i in range(0, frame_count, step):\n",
    "        cap.set(cv2.CAP_PROP_POS_FRAMES, i)\n",
    "        ret, frame = cap.read()\n",
    "        if not ret:\n",
    "            break\n",
    "        frame = cv2.resize(frame, (img_size, img_size))\n",
    "        frame = cv2.cvtColor(frame, cv2.COLOR_BGR2RGB)\n",
    "        frames.append(frame)\n",
    "\n",
    "        if len(frames) >= num_frames:\n",
    "            break\n",
    "\n",
    "    cap.release()\n",
    "\n",
    "    # Pad if not enough frames\n",
    "    while len(frames) < num_frames:\n",
    "        frames.append(frames[-1])\n",
    "\n",
    "    frames = np.stack(frames)  # Shape: (num_frames, H, W, C)\n",
    "    frames = torch.from_numpy(frames).permute(3, 0, 1, 2).float() / 255.0  # (C, T, H, W)\n",
    "    frames = frames.unsqueeze(0).to(\"cuda\")  # Add batch dimension: (1, C, T, H, W)\n",
    "\n",
    "    return frames\n"
   ]
  },
  {
   "cell_type": "code",
   "execution_count": 36,
   "id": "9d748f83",
   "metadata": {
    "execution": {
     "iopub.execute_input": "2025-04-16T08:52:03.016994Z",
     "iopub.status.busy": "2025-04-16T08:52:03.016696Z",
     "iopub.status.idle": "2025-04-16T08:52:03.021658Z",
     "shell.execute_reply": "2025-04-16T08:52:03.020916Z"
    },
    "papermill": {
     "duration": 0.019533,
     "end_time": "2025-04-16T08:52:03.022908",
     "exception": false,
     "start_time": "2025-04-16T08:52:03.003375",
     "status": "completed"
    },
    "tags": []
   },
   "outputs": [],
   "source": [
    "# Function to make a prediction\n",
    "def predict_video(video_path):\n",
    "    # Preprocess video\n",
    "    video_tensor = preprocess_video(video_path)\n",
    "\n",
    "    # Make prediction\n",
    "    with torch.no_grad():\n",
    "        outputs = model(video_tensor).squeeze(1)\n",
    "        print(f\"Raw Logit Value: {outputs}\") \n",
    "        probs = torch.sigmoid(outputs).item()  # Convert logits to probability\n",
    "\n",
    "    # Define threshold for binary classification\n",
    "    threshold = 0.3\n",
    "    prediction = \"Fight\" if probs < threshold else \"NonFight\"\n",
    "    \n",
    "    print(f\"Prediction: {prediction}\")\n",
    "    print(f\"Confidence: {probs:.4f}\")\n",
    "    return prediction, probs\n"
   ]
  },
  {
   "cell_type": "code",
   "execution_count": 37,
   "id": "3ffca52f",
   "metadata": {
    "execution": {
     "iopub.execute_input": "2025-04-16T08:52:03.048468Z",
     "iopub.status.busy": "2025-04-16T08:52:03.048180Z",
     "iopub.status.idle": "2025-04-16T08:52:03.589065Z",
     "shell.execute_reply": "2025-04-16T08:52:03.588381Z"
    },
    "papermill": {
     "duration": 0.555095,
     "end_time": "2025-04-16T08:52:03.590395",
     "exception": false,
     "start_time": "2025-04-16T08:52:03.035300",
     "status": "completed"
    },
    "tags": []
   },
   "outputs": [
    {
     "name": "stdout",
     "output_type": "stream",
     "text": [
      "Raw Logit Value: tensor([-1.6996], device='cuda:0')\n",
      "Prediction: Fight\n",
      "Confidence: 0.1545\n"
     ]
    },
    {
     "data": {
      "text/plain": [
       "('Fight', 0.1545216292142868)"
      ]
     },
     "execution_count": 37,
     "metadata": {},
     "output_type": "execute_result"
    }
   ],
   "source": [
    "# Path to the video for prediction\n",
    "video_path = \"/kaggle/input/rwf2000/RWF-2000/val/NonFight/1MVS2QPWbHc_0.avi\"  # Change path accordingly\n",
    "\n",
    "# Run prediction\n",
    "predict_video(video_path)\n"
   ]
  },
  {
   "cell_type": "code",
   "execution_count": null,
   "id": "0d92da76",
   "metadata": {
    "papermill": {
     "duration": 0.01221,
     "end_time": "2025-04-16T08:52:03.662893",
     "exception": false,
     "start_time": "2025-04-16T08:52:03.650683",
     "status": "completed"
    },
    "tags": []
   },
   "outputs": [],
   "source": []
  }
 ],
 "metadata": {
  "kaggle": {
   "accelerator": "gpu",
   "dataSources": [
    {
     "datasetId": 2730182,
     "sourceId": 4718786,
     "sourceType": "datasetVersion"
    },
    {
     "modelId": 282849,
     "modelInstanceId": 261705,
     "sourceId": 307032,
     "sourceType": "modelInstanceVersion"
    },
    {
     "isSourceIdPinned": true,
     "modelId": 284059,
     "modelInstanceId": 262941,
     "sourceId": 309852,
     "sourceType": "modelInstanceVersion"
    }
   ],
   "dockerImageVersionId": 30919,
   "isGpuEnabled": true,
   "isInternetEnabled": true,
   "language": "python",
   "sourceType": "notebook"
  },
  "kernelspec": {
   "display_name": "Python 3",
   "language": "python",
   "name": "python3"
  },
  "language_info": {
   "codemirror_mode": {
    "name": "ipython",
    "version": 3
   },
   "file_extension": ".py",
   "mimetype": "text/x-python",
   "name": "python",
   "nbconvert_exporter": "python",
   "pygments_lexer": "ipython3",
   "version": "3.10.12"
  },
  "papermill": {
   "default_parameters": {},
   "duration": 999.006244,
   "end_time": "2025-04-16T08:52:05.497507",
   "environment_variables": {},
   "exception": null,
   "input_path": "__notebook__.ipynb",
   "output_path": "__notebook__.ipynb",
   "parameters": {},
   "start_time": "2025-04-16T08:35:26.491263",
   "version": "2.6.0"
  }
 },
 "nbformat": 4,
 "nbformat_minor": 5
}
